{
 "cells": [
  {
   "cell_type": "markdown",
   "metadata": {},
   "source": [
    "# Bi Rhythms"
   ]
  },
  {
   "cell_type": "markdown",
   "metadata": {},
   "source": [
    "First, we always need to import our functions (don't worry if you don't understand what this means, just click on the cell below and hit 'run')"
   ]
  },
  {
   "cell_type": "code",
   "execution_count": null,
   "metadata": {},
   "outputs": [],
   "source": [
    "%matplotlib inline\n",
    "from pattern import *"
   ]
  },
  {
   "cell_type": "markdown",
   "metadata": {},
   "source": [
    "A bi-rhythm (also known as a polyrhythm or a cross-rhythm) occurs when two regular rhythmic patterns conflict with each other. \n",
    "The most common bi-rhythm in Western Music is the hemiola. We will now create a hemiola using a simple function \n",
    "called biRhythm. \n",
    "\n",
    "(note: this function is written in the Python programming language and therefore we need to pay attention to upper and lower case characters). "
   ]
  },
  {
   "cell_type": "code",
   "execution_count": null,
   "metadata": {
    "scrolled": true
   },
   "outputs": [],
   "source": [
    "score1 = biRhythm(numerator = 2, \n",
    "              denominator = 3, \n",
    "              pulse_duration = 1/8,\n",
    "              repetitions = 1,\n",
    "              time_sig = '4/4',\n",
    "              composer = 'you') "
   ]
  },
  {
   "cell_type": "markdown",
   "metadata": {},
   "source": [
    "At this point we created a score of the bi-rhtyhm and assigned it to the variable score1. \n",
    "\n",
    "The function showScore() will render the music in the browser. "
   ]
  },
  {
   "cell_type": "code",
   "execution_count": null,
   "metadata": {
    "scrolled": true
   },
   "outputs": [],
   "source": [
    "showScore(score1)"
   ]
  },
  {
   "cell_type": "markdown",
   "metadata": {
    "scrolled": true
   },
   "source": [
    "The function biRhythm accepts several arguments which will determine the specific result. \n",
    "We can change any of its arguments. \n",
    "\n",
    "Since 4/4 is not the best time signature for this bi rhythm, lets change the meter to 3/4 and repeat the patterns 4 times. "
   ]
  },
  {
   "cell_type": "code",
   "execution_count": null,
   "metadata": {},
   "outputs": [],
   "source": [
    "score2 = biRhythm(numerator = 2, \n",
    "              denominator = 3, \n",
    "              pulse_duration = 1/8,\n",
    "              repetitions = 4,\n",
    "              time_sig = '3/4',\n",
    "              composer = 'the computer ?') "
   ]
  },
  {
   "cell_type": "code",
   "execution_count": null,
   "metadata": {
    "scrolled": true
   },
   "outputs": [],
   "source": [
    "showScore(score2)"
   ]
  },
  {
   "cell_type": "markdown",
   "metadata": {},
   "source": [
    "We can also open the score in a music editor using the method show('xml')"
   ]
  },
  {
   "cell_type": "code",
   "execution_count": null,
   "metadata": {},
   "outputs": [],
   "source": [
    "score2.show('xml')"
   ]
  },
  {
   "cell_type": "markdown",
   "metadata": {},
   "source": [
    "or view it as a diagram"
   ]
  },
  {
   "cell_type": "code",
   "execution_count": null,
   "metadata": {},
   "outputs": [],
   "source": [
    "score2.plot()"
   ]
  },
  {
   "cell_type": "markdown",
   "metadata": {},
   "source": [
    "or listen to it as a midi file"
   ]
  },
  {
   "cell_type": "code",
   "execution_count": null,
   "metadata": {},
   "outputs": [],
   "source": [
    "score2.show('midi')"
   ]
  },
  {
   "cell_type": "markdown",
   "metadata": {},
   "source": [
    "Lets try a more complex bi-rhythm. This time our duration unit will be a 1/16th note.\n",
    "\n",
    "Notice that we can also include more than one instruction in one cell as long as we hit enter between them."
   ]
  },
  {
   "cell_type": "code",
   "execution_count": null,
   "metadata": {},
   "outputs": [],
   "source": [
    "score3 = biRhythm(numerator = 4, \n",
    "                  denominator = 3, \n",
    "                  pulse_duration = 1/16,\n",
    "                  repetitions = 4, \n",
    "                  time_sig = '3/4')\n",
    "showScore(score3)"
   ]
  },
  {
   "cell_type": "markdown",
   "metadata": {},
   "source": [
    "We can try something more complicated\n",
    "\n",
    "Notice that as long as we keep the numbers in the same order, the function knows what they refer to. "
   ]
  },
  {
   "cell_type": "code",
   "execution_count": null,
   "metadata": {
    "scrolled": true
   },
   "outputs": [],
   "source": [
    "score4 = biRhythm (7, 4, 1/16, 2, '7/4')\n",
    "showScore(score4)\n"
   ]
  },
  {
   "cell_type": "code",
   "execution_count": null,
   "metadata": {},
   "outputs": [],
   "source": [
    "score5 = biRhythm(8, 3, 1/16, 2, '3/4')\n",
    "showScore(score5)\n",
    "score5.plot()"
   ]
  },
  {
   "cell_type": "markdown",
   "metadata": {},
   "source": [
    "The nice thing about these is that you can go back to any cell and change the parameters and create your own bi-rhythms. Go ahead and try!"
   ]
  }
 ],
 "metadata": {
  "kernelspec": {
   "display_name": "Python 3",
   "language": "python",
   "name": "python3"
  },
  "language_info": {
   "codemirror_mode": {
    "name": "ipython",
    "version": 3
   },
   "file_extension": ".py",
   "mimetype": "text/x-python",
   "name": "python",
   "nbconvert_exporter": "python",
   "pygments_lexer": "ipython3",
   "version": "3.7.3"
  }
 },
 "nbformat": 4,
 "nbformat_minor": 4
}
